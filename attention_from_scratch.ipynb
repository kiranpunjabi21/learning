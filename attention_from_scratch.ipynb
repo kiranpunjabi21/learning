{
 "cells": [
  {
   "cell_type": "code",
   "execution_count": null,
   "metadata": {},
   "outputs": [],
   "source": [
    "import tensorflow as tf\n",
    "from tensorflow import matmul,math\n",
    "from numpy import random\n",
    "from math import sqrt\n",
    "import random\n",
    "from keras.backend import softmax\n",
    "#from tensorflow.keras.layers import Layer\n",
    "import numpy as np\n",
    "from tensorflow.keras.layers import LayerNormalization, Layer, Dense, ReLU, Dropout\n",
    "\n",
    "class AttentionDotProduct(Layer):\n",
    "    \n",
    "    # def __init__(self,**kwargs):\n",
    "    #     super(AttentionDotProduct, self).__init__(**kwargs)\n",
    "    \n",
    "    def call(self,queries,keys,values,d_k):\n",
    "        scores = matmul(queries,keys,transpose_b=True)/sqrt(d_k)\n",
    "        weights = tf.keras.activations.softmax(scores)\n",
    "        return matmul(weights,values)\n",
    "        "
   ]
  },
  {
   "cell_type": "code",
   "execution_count": null,
   "metadata": {},
   "outputs": [],
   "source": [
    "#Testing code\n",
    "d_q = 64\n",
    "d_k = 64 #dim of key matrix\n",
    "d_v = 64 #dim of value matrix\n",
    "input_len = 5 #Length of input sequence\n",
    "batch_size = 64\n",
    "queries = np.random.random((batch_size,input_len,d_q))\n",
    "keys = np.random.random((batch_size,input_len,d_k))\n",
    "values = np.random.random((batch_size,input_len,d_v))\n",
    "\n",
    "attention = AttentionDotProduct()\n",
    "result = attention(queries,keys,values,d_k)\n",
    "print(result)"
   ]
  },
  {
   "cell_type": "code",
   "execution_count": 63,
   "metadata": {},
   "outputs": [
    {
     "name": "stdout",
     "output_type": "stream",
     "text": [
      "2.13.0\n"
     ]
    }
   ],
   "source": [
    "print(tf.__version__)"
   ]
  },
  {
   "cell_type": "code",
   "execution_count": null,
   "metadata": {},
   "outputs": [],
   "source": [
    "class FeedForward(Layer):\n",
    "    \n",
    "    def __init__(self,d_ff,d_model,**kwargs):\n",
    "        self.fullyconnected1 = Dense(d_ff) \n",
    "        self.fullyconnected2 = Dense(d_model)\n",
    "        self.activation = ReLU()\n",
    "        \n",
    "    def call(self,x):\n",
    "        \n",
    "        x_fc = self.fullyconnected1(x)\n",
    "        \n",
    "        return self.fullyconnected2(self.activation(x_fc))"
   ]
  }
 ],
 "metadata": {
  "kernelspec": {
   "display_name": "Python 3",
   "language": "python",
   "name": "python3"
  },
  "language_info": {
   "codemirror_mode": {
    "name": "ipython",
    "version": 3
   },
   "file_extension": ".py",
   "mimetype": "text/x-python",
   "name": "python",
   "nbconvert_exporter": "python",
   "pygments_lexer": "ipython3",
   "version": "3.10.12"
  },
  "orig_nbformat": 4
 },
 "nbformat": 4,
 "nbformat_minor": 2
}
