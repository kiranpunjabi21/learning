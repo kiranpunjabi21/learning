{
 "cells": [
  {
   "cell_type": "code",
   "execution_count": null,
   "metadata": {},
   "outputs": [],
   "source": [
    "import tensorflow as tf\n",
    "from tensorflow import matmul,math\n",
    "from numpy import random\n",
    "from math import sqrt\n",
    "import random\n",
    "from keras.backend import softmax\n",
    "#from tensorflow.keras.layers import Layer\n",
    "import numpy as np\n",
    "from tensorflow.keras.layers import LayerNormalization, Layer, Dense, ReLU, Dropout\n",
    "\n",
    "class AttentionDotProduct(Layer):\n",
    "    \n",
    "    # def __init__(self,**kwargs):\n",
    "    #     super(AttentionDotProduct, self).__init__(**kwargs)\n",
    "    \n",
    "    def call(self,queries,keys,values,d_k):\n",
    "        scores = matmul(queries,keys,transpose_b=True)/sqrt(d_k)\n",
    "        weights = tf.keras.activations.softmax(scores)\n",
    "        return matmul(weights,values)\n",
    "        "
   ]
  },
  {
   "cell_type": "code",
   "execution_count": null,
   "metadata": {},
   "outputs": [],
   "source": [
    "#Testing code\n",
    "d_q = 64\n",
    "d_k = 64 #dim of key matrix\n",
    "d_v = 64 #dim of value matrix\n",
    "input_len = 5 #Length of input sequence\n",
    "batch_size = 64\n",
    "queries = np.random.random((batch_size,input_len,d_q))\n",
    "keys = np.random.random((batch_size,input_len,d_k))\n",
    "values = np.random.random((batch_size,input_len,d_v))\n",
    "\n",
    "attention = AttentionDotProduct()\n",
    "result = attention(queries,keys,values,d_k)\n",
    "print(result)"
   ]
  },
  {
   "cell_type": "code",
   "execution_count": 63,
   "metadata": {},
   "outputs": [
    {
     "name": "stdout",
     "output_type": "stream",
     "text": [
      "2.13.0\n"
     ]
    }
   ],
   "source": [
    "print(tf.__version__)"
   ]
  },
  {
   "cell_type": "code",
   "execution_count": null,
   "metadata": {},
   "outputs": [],
   "source": [
    "class FeedForward(Layer):\n",
    "    \n",
    "    def __init__(self,d_ff,d_model,**kwargs):\n",
    "        self.fullyconnected1 = Dense(d_ff) \n",
    "        self.fullyconnected2 = Dense(d_model)\n",
    "        self.activation = ReLU()\n",
    "        \n",
    "    def call(self,x):\n",
    "        \n",
    "        x_fc = self.fullyconnected1(x)\n",
    "        \n",
    "        return self.fullyconnected2(self.activation(x_fc))"
   ]
  },
  {
   "cell_type": "code",
   "execution_count": null,
   "metadata": {},
   "outputs": [],
   "source": [
    "class AddNormalization(Layer):\n",
    "    def __init__(self, **kwargs):\n",
    "        super(AddNormalization, self).__init__(**kwargs)\n",
    "        self.layer_norm = LayerNormalization() \n",
    "        \n",
    "    def call(self, x, sublayer_x):\n",
    "        add = x + sublayer_x\n",
    " \n",
    "    # Apply layer normalization to the sum\n",
    "        return self.layer_norm(add)"
   ]
  },
  {
   "cell_type": "code",
   "execution_count": null,
   "metadata": {},
   "outputs": [],
   "source": [
    "class EncoderLayer(Layer):\n",
    "    def __init__(self, h, d_k, d_v, d_model, d_ff, rate, **kwargs):\n",
    "        super(EncoderLayer, self).__init__(**kwargs)\n",
    "        self.multihead_attention = MultiHeadAttention(h, d_k, d_v, d_model)\n",
    "        self.dropout1 = Dropout(rate)\n",
    "        self.add_norm1 = AddNormalization()\n",
    "        self.feed_forward = FeedForward(d_ff, d_model)\n",
    "        self.dropout2 = Dropout(rate)\n",
    "        self.add_norm2 = AddNormalization()\n",
    "        \n",
    "        \n",
    "    def call(self, x, padding_mask, training):\n",
    "        # Multi-head attention layer\n",
    "        multihead_output = self.multihead_attention(x, x, x, padding_mask)\n",
    "    # Expected output shape = (batch_size, sequence_length, d_model)\n",
    " \n",
    "    # Add in a dropout layer\n",
    "        multihead_output = self.dropout1(multihead_output, training=training)\n",
    " \n",
    "    # Followed by an Add & Norm layer\n",
    "        addnorm_output = self.add_norm1(x, multihead_output)\n",
    "    # Expected output shape = (batch_size, sequence_length, d_model)\n",
    " \n",
    "    # Followed by a fully connected layer\n",
    "        feedforward_output = self.feed_forward(addnorm_output)\n",
    "    # Expected output shape = (batch_size, sequence_length, d_model)\n",
    " \n",
    "    # Add in another dropout layer\n",
    "        feedforward_output = self.dropout2(feedforward_output, training=training)\n",
    " \n",
    "    # Followed by another Add & Norm layer\n",
    "        return self.add_norm2(addnorm_output, feedforward_output)"
   ]
  },
  {
   "cell_type": "code",
   "execution_count": null,
   "metadata": {},
   "outputs": [],
   "source": [
    "class Encoder(Layer):\n",
    "    def __init__(self, vocab_size, sequence_length, h, d_k, d_v, d_model, d_ff, n, rate, **kwargs):\n",
    "        super(Encoder, self).__init__(**kwargs)\n",
    "        self.pos_encoding = PositionEmbeddingFixedWeights(sequence_length, vocab_size, d_model)\n",
    "        self.dropout = Dropout(rate)\n",
    "        self.encoder_layer = [EncoderLayer(h, d_k, d_v, d_model, d_ff, rate) for _ in range(n)]\n",
    " \n",
    "    def call(self, input_sentence, padding_mask, training):\n",
    "        pos_encoding_output = self.pos_encoding(input_sentence)\n",
    "        # Expected output shape = (batch_size, sequence_length, d_model)\n",
    " \n",
    "        # Add in a dropout layer\n",
    "        x = self.dropout(pos_encoding_output, training=training)\n",
    " \n",
    "        # Pass on the positional encoded values to each encoder layer\n",
    "        for i, layer in enumerate(self.encoder_layer):\n",
    "            x = layer(x, padding_mask, training)\n",
    " \n",
    "        return x"
   ]
  }
 ],
 "metadata": {
  "kernelspec": {
   "display_name": "Python 3",
   "language": "python",
   "name": "python3"
  },
  "language_info": {
   "codemirror_mode": {
    "name": "ipython",
    "version": 3
   },
   "file_extension": ".py",
   "mimetype": "text/x-python",
   "name": "python",
   "nbconvert_exporter": "python",
   "pygments_lexer": "ipython3",
   "version": "3.10.12"
  },
  "orig_nbformat": 4
 },
 "nbformat": 4,
 "nbformat_minor": 2
}
